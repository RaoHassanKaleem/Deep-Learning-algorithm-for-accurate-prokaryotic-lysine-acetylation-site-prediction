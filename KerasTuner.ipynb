{
  "cells": [
    {
      "cell_type": "code",
      "source": [
        "pip install Bio"
      ],
      "metadata": {
        "colab": {
          "base_uri": "https://localhost:8080/"
        },
        "id": "g_QUWLpGA4Uy",
        "outputId": "842898dd-8887-450c-bd36-5ac7e799329a"
      },
      "execution_count": null,
      "outputs": [
        {
          "output_type": "stream",
          "name": "stdout",
          "text": [
            "Looking in indexes: https://pypi.org/simple, https://us-python.pkg.dev/colab-wheels/public/simple/\n",
            "Requirement already satisfied: Bio in /usr/local/lib/python3.7/dist-packages (1.3.9)\n",
            "Requirement already satisfied: requests in /usr/local/lib/python3.7/dist-packages (from Bio) (2.23.0)\n",
            "Requirement already satisfied: mygene in /usr/local/lib/python3.7/dist-packages (from Bio) (3.2.2)\n",
            "Requirement already satisfied: tqdm in /usr/local/lib/python3.7/dist-packages (from Bio) (4.64.0)\n",
            "Requirement already satisfied: biopython>=1.79 in /usr/local/lib/python3.7/dist-packages (from Bio) (1.79)\n",
            "Requirement already satisfied: numpy in /usr/local/lib/python3.7/dist-packages (from biopython>=1.79->Bio) (1.21.6)\n",
            "Requirement already satisfied: biothings-client>=0.2.6 in /usr/local/lib/python3.7/dist-packages (from mygene->Bio) (0.2.6)\n",
            "Requirement already satisfied: urllib3!=1.25.0,!=1.25.1,<1.26,>=1.21.1 in /usr/local/lib/python3.7/dist-packages (from requests->Bio) (1.24.3)\n",
            "Requirement already satisfied: chardet<4,>=3.0.2 in /usr/local/lib/python3.7/dist-packages (from requests->Bio) (3.0.4)\n",
            "Requirement already satisfied: idna<3,>=2.5 in /usr/local/lib/python3.7/dist-packages (from requests->Bio) (2.10)\n",
            "Requirement already satisfied: certifi>=2017.4.17 in /usr/local/lib/python3.7/dist-packages (from requests->Bio) (2022.5.18.1)\n"
          ]
        }
      ]
    },
    {
      "cell_type": "code",
      "execution_count": null,
      "metadata": {
        "id": "k1GKvofMTHXV"
      },
      "outputs": [],
      "source": [
        "from Bio import SeqIO\n",
        "from sklearn.metrics import confusion_matrix,classification_report\n",
        "import numpy as np\n",
        "import pandas as pd\n",
        "import matplotlib.pyplot as plt\n",
        "import seaborn as sns\n",
        "import tensorflow as tf\n",
        "from sklearn.model_selection import train_test_split\n",
        "from sklearn.preprocessing import LabelEncoder\n",
        "from tensorflow.keras.models import Model\n",
        "from tensorflow.keras.layers import LSTM, Activation, Dense, Dropout, Input, Embedding\n",
        "from tensorflow.keras.optimizers import RMSprop\n",
        "from tensorflow.keras.preprocessing.text import Tokenizer\n",
        "from tensorflow.keras.preprocessing import sequence\n",
        "from tensorflow.keras.utils import to_categorical\n",
        "from tensorflow.keras.callbacks import EarlyStopping\n",
        "%matplotlib inline\n",
        "from tensorflow.keras.preprocessing.sequence import pad_sequences\n",
        "from tensorflow.keras.layers import Embedding\n",
        "from tensorflow.keras.layers import Dense, Input, Flatten\n",
        "from tensorflow.keras.layers import Conv1D, MaxPooling1D, Embedding, Dropout\n",
        "from tensorflow.keras.models import Model\n",
        "from tensorflow.keras.callbacks import ModelCheckpoint\n",
        "from tensorflow.keras.models import Sequential"
      ]
    },
    {
      "cell_type": "code",
      "source": [
        "from google.colab import drive\n",
        "drive.mount('/content/drive')"
      ],
      "metadata": {
        "colab": {
          "base_uri": "https://localhost:8080/"
        },
        "id": "IBWrhsbJEYM4",
        "outputId": "353e5806-3139-48f9-e099-6523d0fbd7a7"
      },
      "execution_count": null,
      "outputs": [
        {
          "output_type": "stream",
          "name": "stdout",
          "text": [
            "Drive already mounted at /content/drive; to attempt to forcibly remount, call drive.mount(\"/content/drive\", force_remount=True).\n"
          ]
        }
      ]
    },
    {
      "cell_type": "code",
      "execution_count": null,
      "metadata": {
        "id": "klPpounuTHXc"
      },
      "outputs": [],
      "source": [
        "neg_seq = []\n",
        "neg_id= []\n",
        "\n",
        "for seq_record in SeqIO.parse(\"/content/drive/MyDrive/SentimentAnalysis/CGNEGTRAIN.txt\", \"fasta\"):\n",
        "    neg_seq.append(str(seq_record.seq))\n",
        "    neg_id.append(str(seq_record.id))\n",
        "pos_seq = []\n",
        "pos_id= []\n",
        "\n",
        "for seq_record in SeqIO.parse(\"/content/drive/MyDrive/SentimentAnalysis/CGPOSTRAIN.txt\", \"fasta\"):\n",
        "    pos_seq.append(str(seq_record.seq))\n",
        "    pos_id.append(str(seq_record.id))\n",
        "seqs=pos_seq + neg_seq\n",
        "dfclass = pd.DataFrame({'class' :  np.repeat((1,0), (1052, 1052))})\n",
        "y=dfclass['class']"
      ]
    },
    {
      "cell_type": "code",
      "execution_count": null,
      "metadata": {
        "id": "TS7_OTBCTHXe"
      },
      "outputs": [],
      "source": [
        "Indneg_seq = []\n",
        "Indneg_id= []\n",
        "\n",
        "for Indseq_record in SeqIO.parse(\"/content/drive/MyDrive/SentimentAnalysis/CGNEGIND.txt\", \"fasta\"):\n",
        "    Indneg_seq.append(str(Indseq_record.seq))\n",
        "    Indneg_id.append(str(Indseq_record.id))\n",
        "Indpos_seq = []\n",
        "Indpos_id= []\n",
        "\n",
        "for Indseq_record in SeqIO.parse(\"/content/drive/MyDrive/SentimentAnalysis/CGPOSIND.txt\", \"fasta\"):\n",
        "    Indpos_seq.append(str(Indseq_record.seq))\n",
        "    Indpos_id.append(str(Indseq_record.id))\n",
        "\n",
        "Indseqs=Indpos_seq + Indneg_seq\n",
        "Inddfclass = pd.DataFrame({'class' :  np.repeat((1,0), (83, 830))})\n",
        "z=Inddfclass['class']"
      ]
    },
    {
      "cell_type": "code",
      "source": [
        "pip install keras-tuner --upgrade\n"
      ],
      "metadata": {
        "id": "cknEu4TtiWc_",
        "colab": {
          "base_uri": "https://localhost:8080/"
        },
        "outputId": "b8b62628-0bc4-4a95-862e-ad7b2c6d4be5"
      },
      "execution_count": null,
      "outputs": [
        {
          "output_type": "stream",
          "name": "stdout",
          "text": [
            "Looking in indexes: https://pypi.org/simple, https://us-python.pkg.dev/colab-wheels/public/simple/\n",
            "Requirement already satisfied: keras-tuner in /usr/local/lib/python3.7/dist-packages (1.1.2)\n",
            "Requirement already satisfied: kt-legacy in /usr/local/lib/python3.7/dist-packages (from keras-tuner) (1.0.4)\n",
            "Requirement already satisfied: tensorboard in /usr/local/lib/python3.7/dist-packages (from keras-tuner) (2.8.0)\n",
            "Requirement already satisfied: packaging in /usr/local/lib/python3.7/dist-packages (from keras-tuner) (21.3)\n",
            "Requirement already satisfied: ipython in /usr/local/lib/python3.7/dist-packages (from keras-tuner) (5.5.0)\n",
            "Requirement already satisfied: requests in /usr/local/lib/python3.7/dist-packages (from keras-tuner) (2.23.0)\n",
            "Requirement already satisfied: numpy in /usr/local/lib/python3.7/dist-packages (from keras-tuner) (1.21.6)\n",
            "Requirement already satisfied: prompt-toolkit<2.0.0,>=1.0.4 in /usr/local/lib/python3.7/dist-packages (from ipython->keras-tuner) (1.0.18)\n",
            "Requirement already satisfied: simplegeneric>0.8 in /usr/local/lib/python3.7/dist-packages (from ipython->keras-tuner) (0.8.1)\n",
            "Requirement already satisfied: setuptools>=18.5 in /usr/local/lib/python3.7/dist-packages (from ipython->keras-tuner) (57.4.0)\n",
            "Requirement already satisfied: pickleshare in /usr/local/lib/python3.7/dist-packages (from ipython->keras-tuner) (0.7.5)\n",
            "Requirement already satisfied: traitlets>=4.2 in /usr/local/lib/python3.7/dist-packages (from ipython->keras-tuner) (5.1.1)\n",
            "Requirement already satisfied: pexpect in /usr/local/lib/python3.7/dist-packages (from ipython->keras-tuner) (4.8.0)\n",
            "Requirement already satisfied: decorator in /usr/local/lib/python3.7/dist-packages (from ipython->keras-tuner) (4.4.2)\n",
            "Requirement already satisfied: pygments in /usr/local/lib/python3.7/dist-packages (from ipython->keras-tuner) (2.6.1)\n",
            "Requirement already satisfied: six>=1.9.0 in /usr/local/lib/python3.7/dist-packages (from prompt-toolkit<2.0.0,>=1.0.4->ipython->keras-tuner) (1.15.0)\n",
            "Requirement already satisfied: wcwidth in /usr/local/lib/python3.7/dist-packages (from prompt-toolkit<2.0.0,>=1.0.4->ipython->keras-tuner) (0.2.5)\n",
            "Requirement already satisfied: pyparsing!=3.0.5,>=2.0.2 in /usr/local/lib/python3.7/dist-packages (from packaging->keras-tuner) (3.0.9)\n",
            "Requirement already satisfied: ptyprocess>=0.5 in /usr/local/lib/python3.7/dist-packages (from pexpect->ipython->keras-tuner) (0.7.0)\n",
            "Requirement already satisfied: idna<3,>=2.5 in /usr/local/lib/python3.7/dist-packages (from requests->keras-tuner) (2.10)\n",
            "Requirement already satisfied: urllib3!=1.25.0,!=1.25.1,<1.26,>=1.21.1 in /usr/local/lib/python3.7/dist-packages (from requests->keras-tuner) (1.24.3)\n",
            "Requirement already satisfied: certifi>=2017.4.17 in /usr/local/lib/python3.7/dist-packages (from requests->keras-tuner) (2022.5.18.1)\n",
            "Requirement already satisfied: chardet<4,>=3.0.2 in /usr/local/lib/python3.7/dist-packages (from requests->keras-tuner) (3.0.4)\n",
            "Requirement already satisfied: tensorboard-plugin-wit>=1.6.0 in /usr/local/lib/python3.7/dist-packages (from tensorboard->keras-tuner) (1.8.1)\n",
            "Requirement already satisfied: google-auth<3,>=1.6.3 in /usr/local/lib/python3.7/dist-packages (from tensorboard->keras-tuner) (1.35.0)\n",
            "Requirement already satisfied: werkzeug>=0.11.15 in /usr/local/lib/python3.7/dist-packages (from tensorboard->keras-tuner) (1.0.1)\n",
            "Requirement already satisfied: google-auth-oauthlib<0.5,>=0.4.1 in /usr/local/lib/python3.7/dist-packages (from tensorboard->keras-tuner) (0.4.6)\n",
            "Requirement already satisfied: grpcio>=1.24.3 in /usr/local/lib/python3.7/dist-packages (from tensorboard->keras-tuner) (1.46.1)\n",
            "Requirement already satisfied: markdown>=2.6.8 in /usr/local/lib/python3.7/dist-packages (from tensorboard->keras-tuner) (3.3.7)\n",
            "Requirement already satisfied: protobuf>=3.6.0 in /usr/local/lib/python3.7/dist-packages (from tensorboard->keras-tuner) (3.17.3)\n",
            "Requirement already satisfied: tensorboard-data-server<0.7.0,>=0.6.0 in /usr/local/lib/python3.7/dist-packages (from tensorboard->keras-tuner) (0.6.1)\n",
            "Requirement already satisfied: absl-py>=0.4 in /usr/local/lib/python3.7/dist-packages (from tensorboard->keras-tuner) (1.0.0)\n",
            "Requirement already satisfied: wheel>=0.26 in /usr/local/lib/python3.7/dist-packages (from tensorboard->keras-tuner) (0.37.1)\n",
            "Requirement already satisfied: pyasn1-modules>=0.2.1 in /usr/local/lib/python3.7/dist-packages (from google-auth<3,>=1.6.3->tensorboard->keras-tuner) (0.2.8)\n",
            "Requirement already satisfied: cachetools<5.0,>=2.0.0 in /usr/local/lib/python3.7/dist-packages (from google-auth<3,>=1.6.3->tensorboard->keras-tuner) (4.2.4)\n",
            "Requirement already satisfied: rsa<5,>=3.1.4 in /usr/local/lib/python3.7/dist-packages (from google-auth<3,>=1.6.3->tensorboard->keras-tuner) (4.8)\n",
            "Requirement already satisfied: requests-oauthlib>=0.7.0 in /usr/local/lib/python3.7/dist-packages (from google-auth-oauthlib<0.5,>=0.4.1->tensorboard->keras-tuner) (1.3.1)\n",
            "Requirement already satisfied: importlib-metadata>=4.4 in /usr/local/lib/python3.7/dist-packages (from markdown>=2.6.8->tensorboard->keras-tuner) (4.11.3)\n",
            "Requirement already satisfied: typing-extensions>=3.6.4 in /usr/local/lib/python3.7/dist-packages (from importlib-metadata>=4.4->markdown>=2.6.8->tensorboard->keras-tuner) (4.2.0)\n",
            "Requirement already satisfied: zipp>=0.5 in /usr/local/lib/python3.7/dist-packages (from importlib-metadata>=4.4->markdown>=2.6.8->tensorboard->keras-tuner) (3.8.0)\n",
            "Requirement already satisfied: pyasn1<0.5.0,>=0.4.6 in /usr/local/lib/python3.7/dist-packages (from pyasn1-modules>=0.2.1->google-auth<3,>=1.6.3->tensorboard->keras-tuner) (0.4.8)\n",
            "Requirement already satisfied: oauthlib>=3.0.0 in /usr/local/lib/python3.7/dist-packages (from requests-oauthlib>=0.7.0->google-auth-oauthlib<0.5,>=0.4.1->tensorboard->keras-tuner) (3.2.0)\n"
          ]
        }
      ]
    },
    {
      "cell_type": "code",
      "source": [
        "import keras_tuner as kt"
      ],
      "metadata": {
        "id": "FrSo7VXcxfvR"
      },
      "execution_count": null,
      "outputs": []
    },
    {
      "cell_type": "code",
      "source": [
        "max_words = 5000\n",
        "max_len = 350\n",
        "tok = Tokenizer(num_words=max_words)\n",
        "tok.fit_on_texts(seqs)\n",
        "sequences = tok.texts_to_sequences(seqs)\n",
        "sequences_matrix = sequence.pad_sequences(sequences,maxlen=max_len)"
      ],
      "metadata": {
        "id": "chro7Rdnyr7T"
      },
      "execution_count": null,
      "outputs": []
    },
    {
      "cell_type": "code",
      "source": [
        "#Independent Testing\n",
        "max_words = 5000\n",
        "max_len = 350\n",
        "indtok = Tokenizer(num_words=max_words)\n",
        "indtok.fit_on_texts(Indseqs)\n",
        "Indsequences = indtok.texts_to_sequences(Indseqs)\n",
        "Indsequences_matrix = sequence.pad_sequences(Indsequences,maxlen=max_len)\n",
        "X_train=sequences_matrix\n",
        "y_train=y\n",
        "X_test=Indsequences_matrix\n",
        "y_test=z"
      ],
      "metadata": {
        "id": "bgBHgrB-NWKW"
      },
      "execution_count": null,
      "outputs": []
    },
    {
      "cell_type": "code",
      "source": [
        "import keras_tuner as kt\n",
        "from tensorflow import keras"
      ],
      "metadata": {
        "id": "8AUGdzyDirTJ"
      },
      "execution_count": null,
      "outputs": []
    },
    {
      "cell_type": "code",
      "source": [
        "def build_model(hp):\n",
        "  model = keras.Sequential()\n",
        "  model.add(keras.layers.Dense(hp.Choice('units', [2, 4, 8, 16, 32, 64, 128]),activation='relu'))\n",
        "  model.add(keras.layers.Dense(1, activation='sigmoid'))\n",
        "  model.compile(loss='binary_crossentropy',metrics=['accuracy']) \n",
        "  return model"
      ],
      "metadata": {
        "id": "gRK1QxEkjhN-"
      },
      "execution_count": null,
      "outputs": []
    },
    {
      "cell_type": "code",
      "source": [
        "tuner1 = kt.RandomSearch(\n",
        "    build_model,\n",
        "    overwrite=True,\n",
        "    objective='val_accuracy',\n",
        "    max_trials=10)"
      ],
      "metadata": {
        "id": "_EeqLMhBjhQi"
      },
      "execution_count": null,
      "outputs": []
    },
    {
      "cell_type": "code",
      "source": [
        "tuner1.search(X_train, y_train, epochs=20, validation_data=(X_test, y_test))\n",
        "best_model = tuner1.get_best_models()[0]"
      ],
      "metadata": {
        "colab": {
          "base_uri": "https://localhost:8080/"
        },
        "id": "xkZgo6uDjhdK",
        "outputId": "71d45c77-735a-4fcd-d435-846fa52efff0"
      },
      "execution_count": null,
      "outputs": [
        {
          "output_type": "stream",
          "name": "stdout",
          "text": [
            "Trial 7 Complete [00h 00m 06s]\n",
            "val_accuracy: 0.913472056388855\n",
            "\n",
            "Best val_accuracy So Far: 0.9989047050476074\n",
            "Total elapsed time: 00h 00m 58s\n",
            "INFO:tensorflow:Oracle triggered exit\n"
          ]
        }
      ]
    },
    {
      "cell_type": "code",
      "source": [
        "best_model.build(X_train.shape)\n",
        "best_model.summary()"
      ],
      "metadata": {
        "colab": {
          "base_uri": "https://localhost:8080/"
        },
        "id": "G2R_hisVCCGl",
        "outputId": "27fe4ae2-52fa-42ba-c119-f9975bd2c487"
      },
      "execution_count": null,
      "outputs": [
        {
          "output_type": "stream",
          "name": "stdout",
          "text": [
            "Model: \"sequential\"\n",
            "_________________________________________________________________\n",
            " Layer (type)                Output Shape              Param #   \n",
            "=================================================================\n",
            " dense (Dense)               (2104, 100)               35100     \n",
            "                                                                 \n",
            " dense_1 (Dense)             (2104, 1)                 101       \n",
            "                                                                 \n",
            "=================================================================\n",
            "Total params: 35,201\n",
            "Trainable params: 35,201\n",
            "Non-trainable params: 0\n",
            "_________________________________________________________________\n"
          ]
        }
      ]
    },
    {
      "cell_type": "code",
      "source": [
        "accr = best_model.evaluate(X_test,y_test)\n",
        "print('Test set\\n  Loss: {:0.3f}\\n  Accuracy: {:0.3f}'.format(accr[0],accr[1]))"
      ],
      "metadata": {
        "id": "mu_n3V0Xjhft",
        "colab": {
          "base_uri": "https://localhost:8080/"
        },
        "outputId": "a04c0be1-b173-4bb4-ed71-bf4fa7089637"
      },
      "execution_count": null,
      "outputs": [
        {
          "output_type": "stream",
          "name": "stdout",
          "text": [
            "29/29 [==============================] - 0s 2ms/step - loss: 0.1457 - accuracy: 0.9989\n",
            "Test set\n",
            "  Loss: 0.146\n",
            "  Accuracy: 0.999\n"
          ]
        }
      ]
    },
    {
      "cell_type": "code",
      "source": [
        "pred=best_model.predict(X_test)\n",
        "pred1 = np.round_(pred)\n",
        "\n",
        "from sklearn.metrics import matthews_corrcoef as mcc\n",
        "mc=mcc(y_test, pred1)\n",
        "print(\"MCC: \",mc)\n",
        "from sklearn.metrics import confusion_matrix as cm\n",
        "cm(y_test, pred1)"
      ],
      "metadata": {
        "id": "KIAmIGewjhi_",
        "colab": {
          "base_uri": "https://localhost:8080/"
        },
        "outputId": "6875b7f0-e575-40ff-d89f-1c94ce1d9e52"
      },
      "execution_count": null,
      "outputs": [
        {
          "output_type": "stream",
          "name": "stdout",
          "text": [
            "MCC:  0.9933594194557275\n"
          ]
        },
        {
          "output_type": "execute_result",
          "data": {
            "text/plain": [
              "array([[830,   0],\n",
              "       [  1,  82]])"
            ]
          },
          "metadata": {},
          "execution_count": 58
        }
      ]
    },
    {
      "cell_type": "code",
      "source": [
        "from sklearn.metrics import matthews_corrcoef as mcc\n",
        "mc=mcc(y_test, pred1)\n",
        "print(\"MCC: \",mc)\n",
        "from sklearn.metrics import confusion_matrix as cm\n",
        "cm(y_test, pred1)\n",
        "print(classification_report(y_test, pred1))\n",
        "tp, fn, fp, tn = confusion_matrix(y_test, pred1).ravel()\n",
        "print(\"MCC ---> {0}\".format(mc))\n",
        "print(\"Confusion Matrix. tn, fp, fn, tp ---> \", tp, fn, fp, tn)\n",
        "print(\"Precision --->TP/TP+Fp \", tp/(tp+fp))\n",
        "print(\"Recall - SN - Sensitivity --->TP/TP+FN \", tp/(tp+fn))\n",
        "print(\"Specificity - SP ---> \", tn/(tn+fp))\n",
        "print(\"Balanced Accuracy ---> \", ((tp/(tp+fn))+(tn/(tn+fp)))/2)\n",
        "print(\"Jaccard Index --->TP/TP+FN+FP \", tp/(tp+fn+fp))"
      ],
      "metadata": {
        "id": "RG-JsifKTmxp",
        "colab": {
          "base_uri": "https://localhost:8080/"
        },
        "outputId": "119723fa-e0e1-48b1-da90-ab4c291c2e33"
      },
      "execution_count": null,
      "outputs": [
        {
          "output_type": "stream",
          "name": "stdout",
          "text": [
            "MCC:  0.9933594194557275\n",
            "              precision    recall  f1-score   support\n",
            "\n",
            "           0       1.00      1.00      1.00       830\n",
            "           1       1.00      0.99      0.99        83\n",
            "\n",
            "    accuracy                           1.00       913\n",
            "   macro avg       1.00      0.99      1.00       913\n",
            "weighted avg       1.00      1.00      1.00       913\n",
            "\n",
            "MCC ---> 0.9933594194557275\n",
            "Confusion Matrix. tn, fp, fn, tp --->  830 0 1 82\n",
            "Precision --->TP/TP+Fp  0.9987966305655837\n",
            "Recall - SN - Sensitivity --->TP/TP+FN  1.0\n",
            "Specificity - SP --->  0.9879518072289156\n",
            "Balanced Accuracy --->  0.9939759036144578\n",
            "Jaccard Index --->TP/TP+FN+FP  0.9987966305655837\n"
          ]
        }
      ]
    }
  ],
  "metadata": {
    "kernelspec": {
      "display_name": "Python 3",
      "language": "python",
      "name": "python3"
    },
    "language_info": {
      "codemirror_mode": {
        "name": "ipython",
        "version": 3
      },
      "file_extension": ".py",
      "mimetype": "text/x-python",
      "name": "python",
      "nbconvert_exporter": "python",
      "pygments_lexer": "ipython3",
      "version": "3.8.5"
    },
    "colab": {
      "name": "KerasTuner.ipynb",
      "provenance": [],
      "collapsed_sections": []
    },
    "accelerator": "GPU"
  },
  "nbformat": 4,
  "nbformat_minor": 0
}