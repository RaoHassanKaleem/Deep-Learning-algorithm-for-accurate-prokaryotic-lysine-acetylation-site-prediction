{
  "cells": [
    {
      "cell_type": "code",
      "source": [
        "pip install Bio"
      ],
      "metadata": {
        "id": "g_QUWLpGA4Uy",
        "colab": {
          "base_uri": "https://localhost:8080/"
        },
        "outputId": "6bd200aa-c2ee-4447-f7c0-aac8f7a0a1b3"
      },
      "execution_count": 9,
      "outputs": [
        {
          "output_type": "stream",
          "name": "stdout",
          "text": [
            "Looking in indexes: https://pypi.org/simple, https://us-python.pkg.dev/colab-wheels/public/simple/\n",
            "Requirement already satisfied: Bio in /usr/local/lib/python3.7/dist-packages (1.3.9)\n",
            "Requirement already satisfied: tqdm in /usr/local/lib/python3.7/dist-packages (from Bio) (4.64.0)\n",
            "Requirement already satisfied: biopython>=1.79 in /usr/local/lib/python3.7/dist-packages (from Bio) (1.79)\n",
            "Requirement already satisfied: requests in /usr/local/lib/python3.7/dist-packages (from Bio) (2.23.0)\n",
            "Requirement already satisfied: mygene in /usr/local/lib/python3.7/dist-packages (from Bio) (3.2.2)\n",
            "Requirement already satisfied: numpy in /usr/local/lib/python3.7/dist-packages (from biopython>=1.79->Bio) (1.21.6)\n",
            "Requirement already satisfied: biothings-client>=0.2.6 in /usr/local/lib/python3.7/dist-packages (from mygene->Bio) (0.2.6)\n",
            "Requirement already satisfied: certifi>=2017.4.17 in /usr/local/lib/python3.7/dist-packages (from requests->Bio) (2022.5.18.1)\n",
            "Requirement already satisfied: idna<3,>=2.5 in /usr/local/lib/python3.7/dist-packages (from requests->Bio) (2.10)\n",
            "Requirement already satisfied: urllib3!=1.25.0,!=1.25.1,<1.26,>=1.21.1 in /usr/local/lib/python3.7/dist-packages (from requests->Bio) (1.24.3)\n",
            "Requirement already satisfied: chardet<4,>=3.0.2 in /usr/local/lib/python3.7/dist-packages (from requests->Bio) (3.0.4)\n"
          ]
        }
      ]
    },
    {
      "cell_type": "code",
      "execution_count": 10,
      "metadata": {
        "id": "k1GKvofMTHXV"
      },
      "outputs": [],
      "source": [
        "from Bio import SeqIO\n",
        "from sklearn.metrics import confusion_matrix,classification_report\n",
        "import numpy as np\n",
        "import pandas as pd\n",
        "import matplotlib.pyplot as plt\n",
        "import seaborn as sns\n",
        "import tensorflow as tf\n",
        "from sklearn.model_selection import train_test_split\n",
        "from sklearn.preprocessing import LabelEncoder\n",
        "from tensorflow.keras.models import Model\n",
        "from tensorflow.keras.layers import LSTM, Activation, Dense, Dropout, Input, Embedding\n",
        "from tensorflow.keras.optimizers import RMSprop\n",
        "from tensorflow.keras.preprocessing.text import Tokenizer\n",
        "from tensorflow.keras.preprocessing import sequence\n",
        "from tensorflow.keras.utils import to_categorical\n",
        "from tensorflow.keras.callbacks import EarlyStopping\n",
        "%matplotlib inline\n",
        "from tensorflow.keras.preprocessing.sequence import pad_sequences\n",
        "from tensorflow.keras.layers import Embedding\n",
        "from tensorflow.keras.layers import Dense, Input, Flatten\n",
        "from tensorflow.keras.layers import Conv1D, MaxPooling1D, Embedding, Dropout\n",
        "from tensorflow.keras.models import Model\n",
        "from tensorflow.keras.callbacks import ModelCheckpoint\n",
        "from tensorflow.keras.models import Sequential"
      ]
    },
    {
      "cell_type": "code",
      "source": [
        "from google.colab import drive\n",
        "drive.mount('/content/drive')"
      ],
      "metadata": {
        "id": "IBWrhsbJEYM4",
        "colab": {
          "base_uri": "https://localhost:8080/"
        },
        "outputId": "2e023bac-ba15-4691-d942-b92452afbad7"
      },
      "execution_count": 11,
      "outputs": [
        {
          "output_type": "stream",
          "name": "stdout",
          "text": [
            "Drive already mounted at /content/drive; to attempt to forcibly remount, call drive.mount(\"/content/drive\", force_remount=True).\n"
          ]
        }
      ]
    },
    {
      "cell_type": "code",
      "execution_count": 12,
      "metadata": {
        "id": "klPpounuTHXc",
        "colab": {
          "base_uri": "https://localhost:8080/"
        },
        "outputId": "3c3841e2-4a58-404f-f39b-a999ce648d48"
      },
      "outputs": [
        {
          "output_type": "stream",
          "name": "stdout",
          "text": [
            "['EIVPVTIPQRKGEPLVVEHDE', 'AIAVEAKDFPKTPGLVINELL', 'GTIEFLVDEQKNFYFLEMNTR', 'NDQTIPQLKAKVIAGSANNQL', 'KLIELDGTENKSKLGANAILG', 'IIEAIEKAGYKPGEQVMLAMD', 'HKLLTERLGKKVQLVGDDLFV', 'VGDDLFVTNTKKLAEGIEKGV', 'ISTGTLANMVKRGREALESNM', 'VEAHHGALSEKEAKRWERVYD', 'HRLETMTPLPKKALAFVRRLQ', 'SIVSTLTKHEKNVWDSLCLLL', 'RGKVKWFNNEKGYGFIEVEGG', 'OOOOMSVFVNKDTKVIVQGIT', 'LRDDVHVPTVKEAAKAGEEIE', 'LFSVYARCGAKTIEFGGWEMP', 'LKKNIGLALVKADVAAIGREV', 'QGVGFIYISHKLKEVQEIADR', 'PASRFHNAVEKNGAVHSOOOO', 'PVMEGKAMLFKEFAGVDAFPI', 'FIGVSAPGILKVEDVKKMARD', 'TVNEMIDAFTKARDDSNIGVI', 'NAVAETSGLSKKDATKAVDAV', 'OOOOOOOOMNKTELINAVAET', 'SITEALRKGDKVQLIGFGNFE', 'ASGETFETVIKDIVKGGLVAD', 'PEQGRLSLSIKEALPGPWEGL', 'GPWEGLGEKVKPGDVVTGTVK', 'RRIGSPHEVLKEGDVVKAKVL', 'ISELSNLHIEKPSDAVAVGDE', 'QLTIGQNAAAKNMEKLSSGLR', 'DYRPKYVAASKIKKQPGDYVV', 'SLPGIMKAKKKPLEELELDDL', 'TKTIEVFLPPKREAGKILQGE', 'AIEEAIQVRDKHGGEVTVVTV', 'KIAKDVAPKYKADLIVCGATG', 'QTIVVAVDGSKEAEWALKKAI', 'QYANELLERYKNEAIAAGLDD', 'VDIAVEFGSPKVKIAKDVAPK', 'IQQHLEAATDKEKEOOOOOOO', 'ALNKGYNSFKKEQTNVSSPQK', 'LVESKGEEAQKELERIFVNVR', 'RDAAYQIIEKKGATYYGIAMG', 'LVVICAGANQKPGETRLDLVD', 'EIVRTKHFSLKPMDSEEAILQ', 'RGEEVEIVEKKPGWYKIASQT', 'TYNASGHGKLKDALNNGYMLH', 'FPDPTKIYRSKELFPAFERRL', 'EGAIGEGMVFKDTDEALLAYH', 'PNNERVITGLKRISKPGLRVY', 'EKVIEFPNSAKDAKGRLIVGA', 'SALSRPLIAKKLVEIAELEGA', 'PLKDALVAFLKETQKNVTGVV', 'LGEGKDLDFVKEKALKVGAMK', 'KEKALKVGAMKSYVIDVKDEF', 'OMIIGVPKEIKNNENRVAITP', 'AADPELTRVLKESGVIAIAYE', 'AAQIGAQFLEKPYGGKGILLG', 'LGGVPGVARGKVVIIGGGVVG', 'WAQADMVMKVKEPLPSEYRFF', 'HLVTVFAGQDKEATARAREYF', 'LEDAYINRLAKDVPTLVVKKE', 'ALHSLSYTEVKDVRIGKFMEL', 'RVQTVTFTSSKKYDYVLYRDG', 'AKWKEGAETLKPSLDLVGKIO', 'SVSTDTHFTHKAWHDTSPAIS', 'IERVVNAHTPKEEVPEEWNLK', 'SFGQAYGVLIKELRLLARAVF', 'QPVTLVGNEVKVGDKAPDFTV', 'OOOOMAYVTFKGQPVTLVGNE', 'OMEGEWWMAQKQYHVAVVGAT', 'HMRKVNAQIRKVVNMSEDELV', 'ADLLTIYEVKKTFQGVKLAYV', 'GSVEALAVEIKDLRAIVKEVV', 'GRGVKSAEGFKPLKELAEVLG', 'SNSKVIVAINKDPEANIFKVA', 'KQLKDAGITPKDVTVMSVSIA', 'DLLAPYIKGGKIGLFGGAGVG', 'HEMKDSGVISKTAMVFGQMNE', 'RKVQQTLQRYKELQDIIAILG', 'SEPLRIIFEKKDSLQGARFST', 'VLSEGRKLFPKDPPNTSTYKE', 'RGMVMAVAKAKEEGSHTIICA', 'EDIYAGIEYAKGTPEVKKVID', 'QYDRIVETEGKEAANKALADA', 'GTAPKYAGLDKVNPSSVILSG', 'FATGSSIMPQKKNPDMAELIR', 'EGAIDAGNMLKPMLARGELRC', 'OMAERTFIMVKPDGVQRNLIG', 'IHGSDSPQSAKREISLFFKEE', 'ELEARVSQLEKEAAAATTAET', 'QFSRVLDFIEKELRRGHQAYV', 'OMAKAKFERTKPHVNIGTIGH', 'DFPGDEVPVIKGSALKALEGD', 'ALEGDPQWEEKIIELMNAVDE', 'YIPTPQREVDKPFMMPIEDVF', 'ATGRVERGTLKVGDPVEIIGL', 'KFKAQVYVLTKEEGGRHTPFF', 'MNTGEKAVASKHGLLTTIAWG', 'OOOOOOOOMAKNNGGFLLGAL', 'GKKSERTLNAKETVEAWSARI', 'LKAISKPIKGKESIAQVAAIS', 'LENPYILITDKKVSSIQELLP', 'VKAPGFGDRRKAMLEDIAILT', 'TTIASLGRAAKVVVTKETTTI', 'VLTTEAVVADKPEENKGNNNM', 'LITNDGVTIAKEIELEDPFEN', 'YANLEETPVEKPKQDAANVAL', 'AVRGKPVDRQKEGMVHFIGFA', 'GSYYYLIEAVKKREIDLAFLG', 'PSVKVFYRFVKDFFSELERYQ', 'DTALAVIDLGKEEGEANKRMT', 'YHLHLIPRYGKGDGFGAVWKS', 'DKARRLLWPIKKKYGNKISWA', 'PEEDIYWGAEKEWLASERYSG', 'OOOOOOOOOMKNQNQHNTSKC', 'IYVNPEGPDGKPDPVAAARDI', 'LALRFDPEYEKIARRFYENPE', 'KTRYLGPEVPKEDFIWQDPIP', 'YEDIQRELPKKVSIADLIVLG', 'FADGFRNYQKKEYSVGPEELL', 'EFQKLDYWALKEDLRKLMTES', 'IQRDIKEQVIKPVVPAELLDE', 'PQGDAGLTGRKIIVDTYGGYA', 'DIDLPWERTDKAALLKEQALA', 'TVREIGYTRAKYGFDADTCAV', 'PALGSVHGPYKGEPKLGFAEM', 'FTKVVRELLAKDPNVYDPRKI', 'GKMREFGSSGKAAROOOOOOO', 'OOOOMPLVSMKEMLNEALRGK', 'MKYGIVIFPPKRIQDFANSYR', 'TVYETFIVGGKETVOOOOOOO', 'YALIPPHITLKYPFEADEEQI', 'IAAETPPIPIKVTKFSSFYPT', 'FYPTSNIIYLKVEPNDVLERL', 'GGPMHAMALAKELGVKKVIVP', 'MVSRFHHIHEKHYTFKLDGAP', 'EAYKLSVDKLKELLGSLDGVK', 'DRSRSLLEQAKEAKQRYEAVL', 'GAGGTVVETQKDYMELVNKHV', 'AKKVIISAPAKDEDITIVMGV', 'LAPFAKVLHEKFGIVRGMMTT', 'ALKAAAEGELKGILAYSEEPL', 'OOOOOOOMAVKVGINGFGRIG', 'LALKWLQNGAKPSDTVRSLLS', 'IPVEDVRRFEKEFYLWLDQNG', 'AMTLMVNEPPKRRLELVKEAY', 'TKMIIIDDQGKPVSFSREEFA', 'KEKVPAIEVMKSIMRSQLESG', 'SPTVMKRQYVKDGMIIIEKIP', 'LFIDAIIHGTKPPVTAEDGFR', 'LHHSFYNALPKEKRKTPQIIF', 'FRIFRKLLEEKYGKEEARRRI', 'TFKGQEHEEVKKEEKAETVSK', 'GIGYLMGDAVKEVAKQNPKKH', 'NREIWVIGVDKDQAPEGEVKV', 'TYNVTLTSMVKRVDVAVYDTA', 'RVDVAVYDTAKRAKEGDFPGG', 'QKTFDLKAQNKPEQYIALVTT', 'ELLNFDTDNAKKIGEYVKAQL', 'WSNPEYDKLIKDAQTTLANDQ', 'GAAYLQREYVKDFVTHTFGAD', 'EGLYRLGKDNKPVPGIAESYE', 'PGAGKGTQAGKIVEAYGIPHI', 'TDAVVETTGAKRESVVVFIEE', 'YRKRFAEKYQKPLVFTDGALA', 'VKAVCTIDLKKDEQGLLEVVN', 'OOMGVAAANNKRHGAYAVVAI', 'RDKLPKTRSGKIMRRVLKAWE', 'RYYTHIRHGRKPPQEQIEDLK', 'TYAKGQKLEVKEIPYDGGITD', 'ALSALGKRGVKEMAAMNIQKA', 'PVDPDLQLEAKYWNIVEVQNG', 'WVRRLIEVDGKEVKGDLDKYR', 'VFELHLGMAAKKLGLHIASPV', 'GPTVEADGGGKRTSQNQQYKK', 'EIAAATKRPEKVIGMHFMNPV', 'IGKADIKREGKDITIIAYGAM', 'ESLKAAAELEKEGISAEVVDL', 'VEVGDRIIFSKYAGTEVKYDG', 'NTPKVVGGVTKTCTKVAAAMY', 'VSSPAVAEMEKIFENTFRHIN', 'NEEGKALRGSKVTVLGVAYKK', 'LKRVIAEMGGKDAIVVDKEAD', 'LMTGGEGDDAKGFFIQPTVFA', 'PGQHGPGQRRKLSEYGLQLQE', 'TFEEAGKMPGKHGENFMILLE', 'KLTGGVEGLLKGNKVDIVKGE', 'GVEVVTNALAKGAEERADGVT', 'TVDFSKVQEWKASIVKKLTGG', 'PRIVFVNKMDKIGADFLYSVK', 'YRDMAEEYHNKLIEAVAELDE', 'MHANHRQEISKVYAGDIAAAV', 'EPVISVAIEPKSKADQDKMSQ', 'WIEFSPNERGKGFEFENAIVG', 'AGYPVVDIKAKLFDGSYHDVD', 'HDVDSSEMAFKIAASLALKNA', 'LYDEEADVMTKEANYRKAIRL', 'AANFLYMLTGKEPDDIATEAF', 'YLLWHRELPTKEQLEELKKQL', 'NGVIENYEMVKRDYLADVAFQ', 'QTLNGETVKRKPFTAELDASD', 'QPFVIRRIIQKYQDDNGELAI', 'AILAAAAAKAKGFELDFDLTK', 'YVCLEGALKLKEISYIQAEGF', 'GAPAAWAALAKRFGRLPLAET', 'IAVEFGSPKVKIAKDVAPKYK', 'MDEEKDLAQRKKEAAERAKQL', 'IVLGGSAAVEKAARDAGFDVK', 'ALRDYRVEGIKTNIPLLEAVL', 'AVAKRRLDRVKTRKEKIVGTN', 'DPRKAYSLTIKRNTVAVVSDG', 'AQDENTIYAAKNKSPLLVGLG', 'KYGRDLVAEAKAGKIDPVIGR', 'LQKLMTNDVAKLRPGRAQYTL', 'MAQYITWNLLKENTRCNVSLP', 'IEYAKGTPEVKKVIDFLQNEM', 'DVHQFTDVNAKALREGKRPAT', 'QAITIIDDAIKMVSAERSKLG', 'TETFDAIEMAKRAGYTAVVSH', 'OOOOOOOMVKKTAGLLVMAYG', 'ALFSAGGAVSKALAPEAVRRG', 'OOOOOOOOMGKTVIVSGARTP', 'YSIKISEVMTKENLITAPVGT', 'ELLDLHLTAWKSGLKTTYYVR', 'SISIDTFGTGKVSEDILIEVV', 'VFDSITEALRKGDKVQLIGFG', 'NKTEVVGRVAKANKELAERAM', 'NQLVRVYIVQKRKISEGDKMA', 'EFGSPKVKIAKDVAPKYKADL', 'KELLGSLDGVKEDLKWRKTVD', 'VGKQLIESWAKIPVEVHIASE', 'SLLSKQGILEKFHNLKYGKOO', 'QDDNGELAIDKAIINEVLNAD', 'IVWKEVLAGEKAYKLTGSWLP', 'ETADGFVLAEKDLELRGPGDF', 'VRGEEVEIVEKKPGWYKIASQ', 'GYVGLPLAVEKAKAGFHVIGF', 'AAAPDDEMAMKAADWREKQER', 'QELTEGSVDPKQLLRVRDITS', 'KQEILDEAQAKVDTVLKQFRR', 'EKAAPQAPAAKPVVPEGEFPE', 'TAEVERQLIIKALHKAKTYRR', 'KGREKKVVKSKSPALNKGYNS', 'AKVHPGQIWLKRVIAEMGGKD', 'TAGLELIRKTKGEARAFGLTI', 'TYHLVFHPPAKPGVCDKCGGD', 'OMTHIRFDYSKALAFFGEHEL', 'STGDMFRAAIKEGTPLGLQAK', 'ATFAPGGRAPKIGEVWASPDH', 'AYGAMVHESLKAAAELEKEGI', 'TGVPLAQIATKLLLGKSLVDI', 'TISVDLPFAQKRWCGAAGIEN', 'RLYNEYMIAEKATEYVKAVKQ', 'AKPGSITPHTKFKAQVYVLTK', 'LCHAHHLRELKGFIEQGHTWA', 'LEKFHNLKYGKOOOOOOOOOO', 'EGYLACGYIGKGRLEEPENII', 'YTSDGYSQALKAVIDKEQPEG', 'DIVPGPALAHKASYEGKVAAE', 'IKNAEEANTGKVPLDQVGVKA', 'HPEATYEALTKYGRDLVAEAK', 'WERVYDRILAKAQHRLETMTP', 'KAVAVAVEELKAISKPIKGKE', 'ALKVERFGKIKQGEIDIAPLM', 'AESYEVSQDGKTYTFKLRKDA', 'GVADIVVLPEKQEILDEAQAK', 'VICPLIEESDKLDVQNAIDVH', 'PAGTGMARYRKVKPAVKKETA', 'GRIEEVVEKAKAMGVEVOOOO', 'TISVALIDHQKKATMQGKGKE', 'PHYVEDFSDYKGKTLAVKVVE', 'GKVPLDQVGVKALDDYTLKVE', 'GLIGVYQPMEKSVLGSIKQGL', 'WAKVKARYDEKEAQIPPEQMR', 'TEVEILETGIKVVDLLAPYIK', 'IINDQTIPQLKAKVIAGSANN', 'AGVKFAILGNKEKNSGDTPRR', 'VCLNVGCIPSKALISASHRYE', 'TTAVEWLETAKEKTKEIANFI', 'OOOMKPKFMRKLWLLLCISVF', 'SELVRTIFRRKIPIGSLSIER', 'TLKPSLDLVGKIOOOOOOOOO', 'OOOMSDVAKMKEAAFPAPTVE', 'HRYLPMTEEDKQEMLKTIGVA', 'ITGSQGLFHTKQMIEYGTNIV', 'RVVVIEHPNLKFYTSDGYSQA', 'IGRNVFRAALKNPDIEVVAVN', 'EIVEKKPGWYKIASQTGLDGW', 'ANLVTGRLSPKNFQNEVDMNA', 'QIVPAVSWLLKNRGKTFFLLG', 'TVKWAQEILEKSPTAIRFLKA', 'NLLASRFFDPKRYDLASVGRY', 'OOOOOOMTRVKVGILGAGGIA', 'LMHGRLSADEKERVMRAFSEN', 'QAESVWLPNFKDVIETAKKVI', 'DLVNYNPDEAKKLWEQAKKEL', 'YFQTTDTPENKAFVQKYKEKY', 'WSREEEIEYAKKHGIPIPVDL', 'QFGWEWESADKLTPVSAAVVN', 'KPGKALKDAVKOOOOOOOOOO', 'DSGSYVMNTTKGKRERIGRLL', 'TTAKVLAEYLKDKNPDLILAG', 'TDDRDVIRYLKYFTFLSKEEI', 'OOOOOOOOOMKNGRGNRVAVV', 'NLEETPVEKPKQDAANVALPL', 'RPEGYRGEPWKVSQEISAASP', 'TYVAPYNARLKVEEGQRVERG', 'ALRRAYRLVDKQEALRALHFP', 'LMGDAVKEVAKQNPKKHFAIV', 'VQELFEARNPKGQAVISEIDG', 'EVIGEQLKKLKOOOOOOOOOO', 'AYTLQEILTVKSDDVVGRVKT', 'IVGIDVISSSKVHTVRDITVS', 'QVLSRVVELTKQLNVGDPAEQ', 'QGILEKFHNLKYGKOOOOOOO', 'SASELGGIAVKEALARADVSV', 'MQGRSKYGAKKPKAAKKOOOO', 'LEHDIRLLEEKRAEREAELRQ', 'YDYVLYRDGQKMKQFSEGKMF', 'QGIRSFYNLKKOOOOOOOOOO', 'FEHLGWNEAAKLIIKAMEKTI', 'AIQIAKRNGAKLILSHIIDLR', 'GSYYVETLTAKLAEEAWKLFQ', 'OOOOMPYVTIKMLAGRTDEQK', 'IAWIDDAGSLKVGPQSAGAMP', 'TCYNQRPIVKKGDIVEKGEIL', 'ITSAATTAQWKGHRINIIDTP', 'FAKLLNEAGVKFAILGNKEKN', 'TYPGTTEEIVKPALEKKGLVV', 'YGAKKPKAAKKOOOOOOOOOO', 'IYEEFLLYQLKMQALRRLMRD', 'YGVPRIVFVNKMDKIGADFLY', 'LDFEADGNPAKIKNNYDWIGP', 'IYAPNDPDGEKVINVIGNGFI', 'AATEGDLEAAKRKAAEEARAR', 'VNGTNFIDVLKAFNEDEETYA', 'WGLRMGDSTVKDLMVYDGLTC', 'TPKKPNSALRKYARVRLTNGI', 'RNDPCPCGSGKKYKHCCGRTV', 'KAHYAKVELEKRGLSSPFAGP', 'KQVLVEVENSKQSGIIPISEL', 'DSRAVLVQTNKLGYKAITITN', 'VEEQDQYTTAKVLAEYLKDKN', 'DLKKRMNEASKHFDIEWVDRQ', 'VVRTGQGCTEKYRVGKRVYIT', 'NDGVITLEESKGFTTELDVVE', 'QQGSAGDEGAKQKAAAAARTK', 'VYETIEAVARKLGKVPVEVND', 'OMALTGTDRVKRGMAEMQKGG', 'QCPVMNEHVDKIIDLRRYLVL', 'VIEIELDEEEKKWFHRSAATL', 'PAVAEAGVIGKPDPVRGEIIK', 'DINAMMEGAAKARDDFSSSEL', 'KAVALVLPELKGKLNGMAMRV', 'YQGIRSFYNLKKOOOOOOOOO', 'QIIKEVLDYRKWFSFTLYYEK', 'LYYRDAVRNEKYTFKEMKEMS', 'KYWANAYRVYKEALNGPEFAS', 'NMVTTTILATKAPVWIAPAMN', 'OOOOOOOMAVKIRLKRMGTKK', 'YNGPFVLSEWKHEQGWVYTKN', 'TSYNSNRTTNKDWWPNQLNLS', 'HAPDAIMVDVKPAEREEAGEE', 'SDLGLDENSTKMDLLQQTRGR', 'TAEGVDLTEAKVIVAGGRGVK', 'RDDRHAGYPIKVPVVDIVEIG', 'KIIDYAGRIAKKLGFKGIMNI', 'ASCAAIAGVIKQRERNEIERG', 'EQLERDERALKRLCDQYRLYN', 'VGADFFMEIAKLRAARRLFAQ', 'ARYRKVKPAVKKETASDTVSS', 'GVLKKVFDPNKRQLARLEKIA', 'MTKDHYAIAGKRLSDAEOOOO', 'DGVFVGSGIFKSENPEKYARA', 'WEMPVQFSSIKEEHEAVRTRA', 'LHLTAFGVVQKPEIARLEKVG', 'APKLVTEDMVKAMKPGSVIVD', 'ADAVKVTLGPKGRNVVLEKKF', 'EYLDPERGTIKIGFPTSLASH', 'QVYDAEHLMSKYRISGVPIVN', 'MLAAQNILNPKDGKPVVTPSQ', 'RVPVGDLPELKYVFLVGDGIV', 'EVWDVLEDVIKEHPVLLNRAP', 'INEEMKLAAAKAIASVVTEDE', 'DRTFLMHIGGKIETNSKIPVK', 'ISGGKGTAAEKIKKMTECGIK', 'AAKARAAALAKQKAAEASGDD', 'RVGLTAEFVDKYKNDKNFHTK', 'INELVREMCEKLLANPVIEDY', 'KVQEWKASIVKKLTGGVEGLL', 'SVLDEMPAGRKKVETYWVKHH', 'ARQGGLGIIHKNMSIEQQAEQ', 'RPKYVAASKIKKQPGDYVVEM', 'EKLAGMTGTAKTEEEEFRNIY', 'GIKPISEQGTKRLVRAAINYA', 'MIEAGIVDPTKVTRSALQNAA', 'VKEILLRGLEKLEYRGYDSAG', 'PASADDLALAKKRAAEEARAR', 'IVRKDVPDGLKDKTIFALDMS', 'AIDRHAESFRKNKVALYYRDA', 'VKPEVKLGQYKGLEVEKMDTT', 'OOOOOMSDVAKMKEAAFPAPT', 'DRCGVEVTRSKVRRERMGHIE', 'AIYDCATEARKHGVPIIADGG', 'KERYEVHHGVKIHDRALVAAA', 'QLKEELEKRLKOOOOOOOOOO', 'EYQMLRSSAVKIISALGIIGG', 'VVEEEQARQQKELLSRLEPGQ', 'TFQNYFRMYEKLAGMTGTAKT', 'ALRLARGMTYKNAAAGLNLGG', 'VLAGYPVVDIKAKLFDGSYHD']\n"
          ]
        }
      ],
      "source": [
        "neg_seq = []\n",
        "neg_id= []\n",
        "\n",
        "for seq_record in SeqIO.parse(\"/content/drive/MyDrive/Briefings in Bioinformatics/GKNEGTRAIN.txt\", \"fasta\"):\n",
        "    neg_seq.append(str(seq_record.seq))\n",
        "    neg_id.append(str(seq_record.id))\n",
        "pos_seq = []\n",
        "pos_id= []\n",
        "\n",
        "for seq_record in SeqIO.parse(\"/content/drive/MyDrive/Briefings in Bioinformatics/GKPOSTRAIN.txt\", \"fasta\"):\n",
        "    pos_seq.append(str(seq_record.seq))\n",
        "    pos_id.append(str(seq_record.id))\n",
        "seqs=pos_seq + neg_seq\n",
        "dfclass = pd.DataFrame({'class' :  np.repeat((1,0), (206, 206))})\n",
        "y=dfclass['class']\n",
        "print(seqs)"
      ]
    },
    {
      "cell_type": "code",
      "execution_count": 13,
      "metadata": {
        "id": "TS7_OTBCTHXe",
        "colab": {
          "base_uri": "https://localhost:8080/"
        },
        "outputId": "cd5cf5ad-1f4f-43de-dc4c-eee2b25d883c"
      },
      "outputs": [
        {
          "output_type": "stream",
          "name": "stdout",
          "text": [
            "['EPLTGLRVVGKFGDSVTTDHI', 'RLGGRLSELQKEGDISAKRGR', 'VTATNPDTGEKKEFEVIVRFD', 'PEMKDIDVPFKPSRVILQDFT', 'MSMYDACMKYKQDGTGLVVIA', 'NNGLFVAMPSKRTPDGEFRDI', 'VLLHSFMKEFKDVDQAITYVH', 'AAKGTFLLGIKTVIAESFERI', 'RFSALVVVGDKNGHVGFGTGK', 'FPGVSTGPEEKKMGIKSSSTR', 'RDIWPSMEEVKDVVKRAVDPE', 'RLMQYFLNMVKEAKMASSLKO', 'FSEKTCILPEKEVFOOOOOOO', 'KRRIEAGDIGKPIYFKGITRD', 'GGGVIIPREIKELHEYGIARI', 'DLLSEPIGKGKDGSDVYFRDI', 'OOOOMIVVEGKDDTAAIRRAV', 'OOOMRRIDPNKLELEERVVAV', 'ERVVAVNRVAKVVKGGRRLRF', 'VAVNRVAKVVKGGRRLRFSAL', 'KNGHVGFGTGKAQEVPEAIRK', 'KAQEVPEAIRKAIEDAKKNLI', 'EAIRKAIEDAKKNLIEVPIVG', 'GHFGAGEIILKPASEGTGVIA', 'ELAGISDILSKSIGSNTPINM', 'NMVRATFDGLKQLKRAEDVAR', 'RAEDVARLRGKTVEELLGOOO', 'LRRVNTEGRMKAIASITLDNE', 'AHPINSATRGKIQEAILAEYH', 'AILAEYHRLGKLEEELEEAGA', 'OOMSRLPYSIKVLLESVLRQV', 'NLAKWGTPEMKDIDVPFKPSR', 'PVVVDLASMRKAMADLGGDPY', 'ALEYNMDLEFKRNAERYKFLK', 'LEFKRNAERYKFLKWAQKAFD', 'PEVIGVRLTGKLPDGATATDL', 'LALKVTQVLRKKGVVGKFVEF', 'QVLRKKGVVGKFVEFFGPGVA', 'HHVQVVEAYCKANGLFYTPDA', 'SEIETNLSGPKRPQDLIPLSK', 'KRPQDLIPLSKMKQSFRDAVK', 'KMKQSFRDAVKAPQGNQGFGL', 'ITVELNGEQVKLKTGAVVIAA', 'YVLVAAGLVAKKAVEKGLQVP', 'VLVAAGLVAKKAVEKGLQVPK', 'AGLVAKKAVEKGLQVPKYVKT', 'EKGLQVPKYVKTSLAPGSKVV', 'YVKTSLAPGSKVVTGYLRDSG', 'NSGPLAPELEKALAESDLLVT', 'NFEGRIHPLVKGNYLASPPLV', 'DIDLLSEPIGKGKDGSDVYFR', 'PSMEEVKDVVKRAVDPELFRK', 'KRAVDPELFRKEYERVFDGNP', 'FFEGLSPEVRKVEPLTGLRVV', 'DHISPAGSIGKNTPAGQYLIS', 'EVMSMYDACMKYKQDGTGLVV', 'DGTGLVVIAGKDYGMGSSRDW', 'GMGSSRDWAAKGTFLLGIKTV', 'VLMGVLPLQFKEGENAETLGL', 'ENAETLGLTGKEVFDIHIDEN', 'VFDIHIDENVKPRDLVKVTAT', 'TATNPDTGEKKEFEVIVRFDS', 'GGILQMVLREKLAKVKQOOOO', 'LQMVLREKLAKVKQOOOOOOO', 'MVLREKLAKVKQOOOOOOOOO', 'OOOOOOOOOMKIGVLGLQGAV', 'EACGAEAVIVKKPEQLEGLDG', 'IDRYGLMEPLKQFAAAGKPMF', 'GTCAGLILLAKRIVGYDEPHL', 'RESFEAELSIKGVGDGFVGVF', 'QYFLNMVKEAKMASSLKOOOO', 'VKEAKMASSLKOOOOOOOOOO', 'MERDETMFTVKPLPSVEERDE', 'ELQKEGDISAKRGRIATVHPF', 'TVHPFLPMGAKRLYFVGLGKK', 'AKRLYFVGLGKKEELTFERLR', 'TFERLREVFGKLFRALKQAKR', 'GKLFRALKQAKRTKAAVALDT', 'HLATYEFPGYKQKKSQPDYQL', 'ASLFVGSVYGKATNSARTLVN', 'TASDLADYAVKLANRYDFDYE', 'RYDFDYEVLEKEDMERLGMGA', 'GALLAVNQGSKQPPKLIVLKY', 'SKQPPKLIVLKYQGKDEWEDV', 'EWEDVIALVGKGVTFDTGGYC', 'VTFDTGGYCLKPRDSMVDMKT', 'LKPRDSMVDMKTDMAGAAAVL', 'TDNMISGEAFKPDDVITSLSG', 'PDDVITSLSGKTIEVKNTDAE', 'LILADAVTYAKQHGASYIIDV', 'GGVIVALGTDKTGAMTNNEEL', 'ENDRERVRSSKIADLNNSPGR', 'HLDIAGTAATKKDGDLGPAGA', 'OOOMAHIYRPKHHVRFVTASS', 'SYQGGHMEFFKYMYDLLQERG', 'LCEYRAEGENKEAAAAAEAAI', 'AAAEAAIEQVKALEKRVPVLG', 'AAIEQVKALEKRVPVLGITGT', 'LGITGTGGAGKSSLTDELVRR', 'RRFLNEIPDIKIAILSVDPTK', 'KIAILSVDPTKQKTGGALLGD', 'PAIRDAISVVKAAGFDLVIIE', 'SEFGAPTQLEKIDMIDYADLI', 'IDYADLIVINKFERKGSEDAK', 'KFERKGSEDAKRQVQKQYQRS', 'LFVALVDTINKKAGTNWKTSL', 'TINKKAGTNWKTSLKTVANVE', 'TSLKTVANVEKHNVIIPNERR', 'FQIEGAIEAAKERGEAEDVIR', 'EDVIRALETLKADYEAKLTPE', 'DYEAKLTPESKRILATWEETK', 'KRILATWEETKAKYAAKQFVT', 'AKYAAKQFVTKVRDKEIVTEL', 'DKEIVTELTTKTLSGLDIPKV', 'TKTLSGLDIPKVVLPKFKDYG', 'DYGEILRWVYKENVPGSFPYT', 'FPYTAGVFPFKRQGEDPKRQF', 'RTNRRFHYLCKEDKAKRLSTA', 'DPDYRPDIFGKVGESGVSVCT', 'GVSVCTLDDMKKLYKGFDLCD', 'MNTAIDQQVEKKEAELGRPLT', 'PLTPEEYEQVKEWTLQTVRGT', 'VRGTVQADILKEDQGQNTCIF', 'TCIFSTDFALKMMGDIQEYFI', 'MMGDIQEYFIKHRVRNYYSVS', 'RRIWAIVMREKYGANERSQKL', 'EKYGANERSQKLKYHIQTSGR', 'RAMAIQLIITKEFGLTKNENP', 'GAMEMQYQRGKIQDESLYYET', 'IQDESLYYETKKHTGELPIIG', 'IQLARATYEEKETQIRNLREF', 'RNLREFQERNKDKAGPALERL', 'DKAGPALERLKQVATSGGNIF', 'NIFEELMETVKVASLGQITRA', 'YFDGIHLGHQKVIRTAVEIAN', 'FHPHPSVVLGKQSELRSITPL', 'SELRSITPLGKKEQLIASLGV', 'VDQYLDGLHVKHVVAGFDFTY', 'GFDFTYGRFGKGTMETMPIHA', 'RGRFGQTVIPKLAVDGEKVSS', 'VIPKLAVDGEKVSSSRVRKLL', 'GEKVSSSRVRKLLEDGAVEQL', 'ALPAVGVYAVKAVIGGQVYEG', 'VYEGVANVGYKPTFHKTREGL', 'EWHRRLRSEQKFTSVDELTAQ', 'DELTAQIARDKKEAEQYFRCF', 'AEQYFRCFSEKTCILPEKEVF', 'MIMAACTNHNKQAETPAVLDV', 'QAETPAVLDVKIDAPDHIDLN', 'IDAPDHIDLNKPTKLACVVTY', 'LACVVTYGGEKVDDANEVKFE', 'GEKVDDANEVKFEVWKHGSDE', 'GSDEREMLEAKHDGDGRYSVE', 'HDGDGRYSVEKTFTEAGTYSV', 'VTARDMHNMPKKDIVAGSPEQ', 'KPAALTVHLTKDGKPFTNATV', 'VRFEIWQADNKHEFVDADEKG', 'NKHEFVDADEKGNGEYEAMAT', 'EYEAMATLPTKERIROOOOOO', 'GLGRLGHHHAKNLATHQVSGA', 'NLATHQVSGAKLVSVVDPLGE', 'AREYGIEHWTKNPDDVFEDPT', 'PTSTHAEMIAKAAKNGKAIFV', 'AKNGKAIFVEKPLTQSLEEAD', 'RRFDPAYAEAKRRIEAGDIGK', 'AGDIGKPIYFKGITRDAGSPP', 'HGRVLLHSFMKEFKDVDQAIT', 'RNQNVTLLNSKGSTYEIIPDF', 'IECVQNRQTPKVTEIDGKVNL', 'VTEIDGKVNLKIAIAATESFD', 'IAATESFDSGKTVWLEGHVAE', 'OOOOOOOOMAKTMEEAIKGGS', 'OMAKTMEEAIKGGSFLIEDIP', 'DFTDEHHMIAKTTEEYVNNEV', 'LENHEFDRSVKLLRKAGELGL', 'PEEYGGLGLDKVSSAIIAEKM', 'DKVSSAIIAEKMAPAGGFAIS', 'PIVLFGTEEQKQKYLPYLATG', 'KYLPYLATGEKIAAYALTEPG', 'PGSGSDALGAKTTARLNAEGT', 'EGTHYILNGEKQWITNSGFAD', 'GFADVFVVYAKVDGEHFTAFI', 'PGVSTGPEEKKMGIKSSSTRT', 'TLILQDVPVPKENVLGEIGKG', 'PKENVLGEIGKGHVIAFNILN', 'AFNILNIGRYKLGLGAVGGAK', 'KLGLGAVGGAKRALEITLKYA', 'GAKRALEITLKYANQRQQFKR', 'LKYANQRQQFKRPISQFTLTQ', 'PISQFTLTQEKFATMASRLYA', 'DERMGLLDAEKAKDGKEVAKS', 'EKAKDGKEVAKSIAEYAIECS', 'AEYAIECSLNKFFATEVLDYI', 'NRLLVPGMYLKKALKGELPLF', 'ALKGELPLFQKAQQLQEELMM', 'EPGTGALEQEKYLVRNAKKIA', 'EQEKYLVRNAKKIALMVAGLA', 'ALMVAGLAAQKYGQRIEEEQE', 'AMESALLRTEKAIQASGEEKN', 'EKAIQASGEEKNKQKLLYTQI', 'EAFNEIEAHAKETLVAVEQGD', 'TRHTPINVIAKKREAAAALIE', 'AVGADVIERIKLAKERRGVII', 'IFTDPDFPGEKIRRTIAEQVP', 'RTIAEQVPGCKHAFLPREAAK', 'KHAFLPREAAKAKNGKGIGVE', 'ANVYEEASDWKEEITFAELIE', 'RRRQRLGEELKIGYANGRQFH', 'IGYANGRQFHKRLQVFRISRD']\n"
          ]
        }
      ],
      "source": [
        "Indneg_seq = []\n",
        "Indneg_id= []\n",
        "\n",
        "for Indseq_record in SeqIO.parse(\"/content/drive/MyDrive/Briefings in Bioinformatics/GKNEGIND.txt\", \"fasta\"):\n",
        "    Indneg_seq.append(str(Indseq_record.seq))\n",
        "    Indneg_id.append(str(Indseq_record.id))\n",
        "Indpos_seq = []\n",
        "Indpos_id= []\n",
        "\n",
        "for Indseq_record in SeqIO.parse(\"/content/drive/MyDrive/Briefings in Bioinformatics/GKPOSIND.txt\", \"fasta\"):\n",
        "    Indpos_seq.append(str(Indseq_record.seq))\n",
        "    Indpos_id.append(str(Indseq_record.id))\n",
        "\n",
        "Indseqs=Indpos_seq + Indneg_seq\n",
        "Inddfclass = pd.DataFrame({'class' :  np.repeat((1,0), (17, 192))})\n",
        "z=Inddfclass['class']\n",
        "print(Indseqs)"
      ]
    },
    {
      "cell_type": "code",
      "source": [
        "pip install keras-tuner --upgrade\n"
      ],
      "metadata": {
        "id": "cknEu4TtiWc_",
        "colab": {
          "base_uri": "https://localhost:8080/"
        },
        "outputId": "65441249-c19b-41e9-90b9-24587fc4fd5c"
      },
      "execution_count": 14,
      "outputs": [
        {
          "output_type": "stream",
          "name": "stdout",
          "text": [
            "Looking in indexes: https://pypi.org/simple, https://us-python.pkg.dev/colab-wheels/public/simple/\n",
            "Collecting keras-tuner\n",
            "  Downloading keras_tuner-1.1.2-py3-none-any.whl (133 kB)\n",
            "\u001b[K     |████████████████████████████████| 133 kB 27.2 MB/s \n",
            "\u001b[?25hRequirement already satisfied: numpy in /usr/local/lib/python3.7/dist-packages (from keras-tuner) (1.21.6)\n",
            "Requirement already satisfied: packaging in /usr/local/lib/python3.7/dist-packages (from keras-tuner) (21.3)\n",
            "Collecting kt-legacy\n",
            "  Downloading kt_legacy-1.0.4-py3-none-any.whl (9.6 kB)\n",
            "Requirement already satisfied: tensorboard in /usr/local/lib/python3.7/dist-packages (from keras-tuner) (2.8.0)\n",
            "Requirement already satisfied: requests in /usr/local/lib/python3.7/dist-packages (from keras-tuner) (2.23.0)\n",
            "Requirement already satisfied: ipython in /usr/local/lib/python3.7/dist-packages (from keras-tuner) (5.5.0)\n",
            "Requirement already satisfied: pexpect in /usr/local/lib/python3.7/dist-packages (from ipython->keras-tuner) (4.8.0)\n",
            "Requirement already satisfied: simplegeneric>0.8 in /usr/local/lib/python3.7/dist-packages (from ipython->keras-tuner) (0.8.1)\n",
            "Requirement already satisfied: decorator in /usr/local/lib/python3.7/dist-packages (from ipython->keras-tuner) (4.4.2)\n",
            "Requirement already satisfied: prompt-toolkit<2.0.0,>=1.0.4 in /usr/local/lib/python3.7/dist-packages (from ipython->keras-tuner) (1.0.18)\n",
            "Requirement already satisfied: pickleshare in /usr/local/lib/python3.7/dist-packages (from ipython->keras-tuner) (0.7.5)\n",
            "Requirement already satisfied: traitlets>=4.2 in /usr/local/lib/python3.7/dist-packages (from ipython->keras-tuner) (5.1.1)\n",
            "Requirement already satisfied: pygments in /usr/local/lib/python3.7/dist-packages (from ipython->keras-tuner) (2.6.1)\n",
            "Requirement already satisfied: setuptools>=18.5 in /usr/local/lib/python3.7/dist-packages (from ipython->keras-tuner) (57.4.0)\n",
            "Requirement already satisfied: six>=1.9.0 in /usr/local/lib/python3.7/dist-packages (from prompt-toolkit<2.0.0,>=1.0.4->ipython->keras-tuner) (1.15.0)\n",
            "Requirement already satisfied: wcwidth in /usr/local/lib/python3.7/dist-packages (from prompt-toolkit<2.0.0,>=1.0.4->ipython->keras-tuner) (0.2.5)\n",
            "Requirement already satisfied: pyparsing!=3.0.5,>=2.0.2 in /usr/local/lib/python3.7/dist-packages (from packaging->keras-tuner) (3.0.9)\n",
            "Requirement already satisfied: ptyprocess>=0.5 in /usr/local/lib/python3.7/dist-packages (from pexpect->ipython->keras-tuner) (0.7.0)\n",
            "Requirement already satisfied: urllib3!=1.25.0,!=1.25.1,<1.26,>=1.21.1 in /usr/local/lib/python3.7/dist-packages (from requests->keras-tuner) (1.24.3)\n",
            "Requirement already satisfied: certifi>=2017.4.17 in /usr/local/lib/python3.7/dist-packages (from requests->keras-tuner) (2022.5.18.1)\n",
            "Requirement already satisfied: idna<3,>=2.5 in /usr/local/lib/python3.7/dist-packages (from requests->keras-tuner) (2.10)\n",
            "Requirement already satisfied: chardet<4,>=3.0.2 in /usr/local/lib/python3.7/dist-packages (from requests->keras-tuner) (3.0.4)\n",
            "Requirement already satisfied: werkzeug>=0.11.15 in /usr/local/lib/python3.7/dist-packages (from tensorboard->keras-tuner) (1.0.1)\n",
            "Requirement already satisfied: tensorboard-data-server<0.7.0,>=0.6.0 in /usr/local/lib/python3.7/dist-packages (from tensorboard->keras-tuner) (0.6.1)\n",
            "Requirement already satisfied: absl-py>=0.4 in /usr/local/lib/python3.7/dist-packages (from tensorboard->keras-tuner) (1.1.0)\n",
            "Requirement already satisfied: protobuf>=3.6.0 in /usr/local/lib/python3.7/dist-packages (from tensorboard->keras-tuner) (3.17.3)\n",
            "Requirement already satisfied: google-auth<3,>=1.6.3 in /usr/local/lib/python3.7/dist-packages (from tensorboard->keras-tuner) (1.35.0)\n",
            "Requirement already satisfied: wheel>=0.26 in /usr/local/lib/python3.7/dist-packages (from tensorboard->keras-tuner) (0.37.1)\n",
            "Requirement already satisfied: grpcio>=1.24.3 in /usr/local/lib/python3.7/dist-packages (from tensorboard->keras-tuner) (1.46.3)\n",
            "Requirement already satisfied: tensorboard-plugin-wit>=1.6.0 in /usr/local/lib/python3.7/dist-packages (from tensorboard->keras-tuner) (1.8.1)\n",
            "Requirement already satisfied: markdown>=2.6.8 in /usr/local/lib/python3.7/dist-packages (from tensorboard->keras-tuner) (3.3.7)\n",
            "Requirement already satisfied: google-auth-oauthlib<0.5,>=0.4.1 in /usr/local/lib/python3.7/dist-packages (from tensorboard->keras-tuner) (0.4.6)\n",
            "Requirement already satisfied: rsa<5,>=3.1.4 in /usr/local/lib/python3.7/dist-packages (from google-auth<3,>=1.6.3->tensorboard->keras-tuner) (4.8)\n",
            "Requirement already satisfied: cachetools<5.0,>=2.0.0 in /usr/local/lib/python3.7/dist-packages (from google-auth<3,>=1.6.3->tensorboard->keras-tuner) (4.2.4)\n",
            "Requirement already satisfied: pyasn1-modules>=0.2.1 in /usr/local/lib/python3.7/dist-packages (from google-auth<3,>=1.6.3->tensorboard->keras-tuner) (0.2.8)\n",
            "Requirement already satisfied: requests-oauthlib>=0.7.0 in /usr/local/lib/python3.7/dist-packages (from google-auth-oauthlib<0.5,>=0.4.1->tensorboard->keras-tuner) (1.3.1)\n",
            "Requirement already satisfied: importlib-metadata>=4.4 in /usr/local/lib/python3.7/dist-packages (from markdown>=2.6.8->tensorboard->keras-tuner) (4.11.4)\n",
            "Requirement already satisfied: zipp>=0.5 in /usr/local/lib/python3.7/dist-packages (from importlib-metadata>=4.4->markdown>=2.6.8->tensorboard->keras-tuner) (3.8.0)\n",
            "Requirement already satisfied: typing-extensions>=3.6.4 in /usr/local/lib/python3.7/dist-packages (from importlib-metadata>=4.4->markdown>=2.6.8->tensorboard->keras-tuner) (4.2.0)\n",
            "Requirement already satisfied: pyasn1<0.5.0,>=0.4.6 in /usr/local/lib/python3.7/dist-packages (from pyasn1-modules>=0.2.1->google-auth<3,>=1.6.3->tensorboard->keras-tuner) (0.4.8)\n",
            "Requirement already satisfied: oauthlib>=3.0.0 in /usr/local/lib/python3.7/dist-packages (from requests-oauthlib>=0.7.0->google-auth-oauthlib<0.5,>=0.4.1->tensorboard->keras-tuner) (3.2.0)\n",
            "Installing collected packages: kt-legacy, keras-tuner\n",
            "Successfully installed keras-tuner-1.1.2 kt-legacy-1.0.4\n"
          ]
        }
      ]
    },
    {
      "cell_type": "code",
      "source": [
        "import keras_tuner as kt"
      ],
      "metadata": {
        "id": "FrSo7VXcxfvR"
      },
      "execution_count": 15,
      "outputs": []
    },
    {
      "cell_type": "code",
      "source": [
        "max_words = 5000\n",
        "max_len = 350\n",
        "tok = Tokenizer(num_words=max_words)\n",
        "tok.fit_on_texts(seqs)\n",
        "sequences = tok.texts_to_sequences(seqs)\n",
        "sequences_matrix = sequence.pad_sequences(sequences,maxlen=max_len)"
      ],
      "metadata": {
        "id": "chro7Rdnyr7T"
      },
      "execution_count": 16,
      "outputs": []
    },
    {
      "cell_type": "code",
      "source": [
        "#Independent Testing\n",
        "indtok = Tokenizer(num_words=max_words)\n",
        "indtok.fit_on_texts(Indseqs)\n",
        "Indsequences = indtok.texts_to_sequences(Indseqs)\n",
        "Indsequences_matrix = sequence.pad_sequences(Indsequences,maxlen=max_len)\n",
        "X_train=sequences_matrix\n",
        "y_train=y\n",
        "X_test=Indsequences_matrix\n",
        "y_test=z"
      ],
      "metadata": {
        "id": "bgBHgrB-NWKW"
      },
      "execution_count": 17,
      "outputs": []
    },
    {
      "cell_type": "code",
      "source": [
        "import keras_tuner as kt\n",
        "from tensorflow import keras"
      ],
      "metadata": {
        "id": "8AUGdzyDirTJ"
      },
      "execution_count": 18,
      "outputs": []
    },
    {
      "cell_type": "code",
      "source": [
        "def build_model(hp):\n",
        "  model = keras.Sequential()\n",
        "  model.add(keras.layers.Dense(hp.Choice('units', [2, 4, 8, 16, 32, 64, 128]),activation='relu'))\n",
        "  model.add(keras.layers.Dense(1, activation='sigmoid'))\n",
        "  model.compile(loss='binary_crossentropy',metrics=['accuracy']) \n",
        "  return model"
      ],
      "metadata": {
        "id": "gRK1QxEkjhN-"
      },
      "execution_count": 19,
      "outputs": []
    },
    {
      "cell_type": "code",
      "source": [
        "tuner1 = kt.RandomSearch(\n",
        "    build_model,\n",
        "    overwrite=True,\n",
        "    objective='val_accuracy',\n",
        "    max_trials=10,\n",
        "    directory='./multiclass_classifier/training')"
      ],
      "metadata": {
        "id": "_EeqLMhBjhQi"
      },
      "execution_count": 20,
      "outputs": []
    },
    {
      "cell_type": "code",
      "source": [
        "tuner1.search(X_train, y_train, epochs=20, validation_data=(X_test, y_test))\n",
        "best_model = tuner1.get_best_models()[0]"
      ],
      "metadata": {
        "id": "xkZgo6uDjhdK",
        "colab": {
          "base_uri": "https://localhost:8080/"
        },
        "outputId": "e966b08b-7026-4dc8-9162-480f43095294"
      },
      "execution_count": 21,
      "outputs": [
        {
          "output_type": "stream",
          "name": "stdout",
          "text": [
            "Trial 7 Complete [00h 00m 03s]\n",
            "val_accuracy: 0.9904305934906006\n",
            "\n",
            "Best val_accuracy So Far: 0.9952152967453003\n",
            "Total elapsed time: 00h 00m 31s\n",
            "INFO:tensorflow:Oracle triggered exit\n"
          ]
        }
      ]
    },
    {
      "cell_type": "code",
      "source": [
        "tuner1.results_summary()"
      ],
      "metadata": {
        "id": "UdrZ-Xa54RPL",
        "colab": {
          "base_uri": "https://localhost:8080/"
        },
        "outputId": "42a408f1-ff36-4089-9d58-fb4f3a13b6ad"
      },
      "execution_count": 22,
      "outputs": [
        {
          "output_type": "stream",
          "name": "stdout",
          "text": [
            "Results summary\n",
            "Results in ./multiclass_classifier/training/untitled_project\n",
            "Showing 10 best trials\n",
            "<keras_tuner.engine.objective.Objective object at 0x7f542ff61a10>\n",
            "Trial summary\n",
            "Hyperparameters:\n",
            "units: 64\n",
            "Score: 0.9952152967453003\n",
            "Trial summary\n",
            "Hyperparameters:\n",
            "units: 32\n",
            "Score: 0.9952152967453003\n",
            "Trial summary\n",
            "Hyperparameters:\n",
            "units: 8\n",
            "Score: 0.9904305934906006\n",
            "Trial summary\n",
            "Hyperparameters:\n",
            "units: 16\n",
            "Score: 0.9904305934906006\n",
            "Trial summary\n",
            "Hyperparameters:\n",
            "units: 2\n",
            "Score: 0.9856459498405457\n",
            "Trial summary\n",
            "Hyperparameters:\n",
            "units: 128\n",
            "Score: 0.9665071964263916\n",
            "Trial summary\n",
            "Hyperparameters:\n",
            "units: 4\n",
            "Score: 0.9186602830886841\n"
          ]
        }
      ]
    },
    {
      "cell_type": "code",
      "source": [
        "best_model.build(X_train.shape)\n",
        "best_model.summary()"
      ],
      "metadata": {
        "id": "G2R_hisVCCGl",
        "colab": {
          "base_uri": "https://localhost:8080/"
        },
        "outputId": "cb595e5e-d0bf-4419-eff1-38292ffb9d75"
      },
      "execution_count": 23,
      "outputs": [
        {
          "output_type": "stream",
          "name": "stdout",
          "text": [
            "Model: \"sequential\"\n",
            "_________________________________________________________________\n",
            " Layer (type)                Output Shape              Param #   \n",
            "=================================================================\n",
            " dense (Dense)               (412, 64)                 22464     \n",
            "                                                                 \n",
            " dense_1 (Dense)             (412, 1)                  65        \n",
            "                                                                 \n",
            "=================================================================\n",
            "Total params: 22,529\n",
            "Trainable params: 22,529\n",
            "Non-trainable params: 0\n",
            "_________________________________________________________________\n"
          ]
        }
      ]
    },
    {
      "cell_type": "code",
      "source": [
        "accr = best_model.evaluate(X_test,y_test)\n",
        "print('Test set\\n  Loss: {:0.3f}\\n  Accuracy: {:0.3f}'.format(accr[0],accr[1]))"
      ],
      "metadata": {
        "id": "mu_n3V0Xjhft",
        "colab": {
          "base_uri": "https://localhost:8080/"
        },
        "outputId": "b40a0292-6c53-49e3-c756-38c237ab3b08"
      },
      "execution_count": 24,
      "outputs": [
        {
          "output_type": "stream",
          "name": "stdout",
          "text": [
            "7/7 [==============================] - 0s 3ms/step - loss: 0.4097 - accuracy: 0.9952\n",
            "Test set\n",
            "  Loss: 0.410\n",
            "  Accuracy: 0.995\n"
          ]
        }
      ]
    },
    {
      "cell_type": "code",
      "source": [
        "pred=best_model.predict(X_test)\n",
        "pred1 = np.round_(pred)\n",
        "\n",
        "from sklearn.metrics import matthews_corrcoef as mcc\n",
        "mc=mcc(y_test, pred1)\n",
        "print(\"MCC: \",mc)\n",
        "from sklearn.metrics import confusion_matrix as cm\n",
        "cm(y_test, pred1)"
      ],
      "metadata": {
        "id": "KIAmIGewjhi_",
        "colab": {
          "base_uri": "https://localhost:8080/"
        },
        "outputId": "bd72fff0-8044-4917-aa10-6ebcc5627548"
      },
      "execution_count": 25,
      "outputs": [
        {
          "output_type": "stream",
          "name": "stdout",
          "text": [
            "MCC:  0.9676259135453443\n"
          ]
        },
        {
          "output_type": "execute_result",
          "data": {
            "text/plain": [
              "array([[192,   0],\n",
              "       [  1,  16]])"
            ]
          },
          "metadata": {},
          "execution_count": 25
        }
      ]
    },
    {
      "cell_type": "code",
      "source": [
        "from sklearn.metrics import matthews_corrcoef as mcc\n",
        "mc=mcc(y_test, pred1)\n",
        "print(\"MCC: \",mc)\n",
        "from sklearn.metrics import confusion_matrix as cm\n",
        "cm(y_test, pred1)\n",
        "print(classification_report(y_test, pred1))\n",
        "tp, fn, fp, tn = confusion_matrix(y_test, pred1).ravel()\n",
        "print(\"MCC ---> {0}\".format(mc))\n",
        "print(\"Confusion Matrix. tn, fp, fn, tp ---> \", tp, fn, fp, tn)\n",
        "print(\"Precision --->TP/TP+Fp \", tp/(tp+fp))\n",
        "print(\"Recall - SN - Sensitivity --->TP/TP+FN \", tp/(tp+fn))\n",
        "print(\"Specificity - SP ---> \", tn/(tn+fp))\n",
        "print(\"Balanced Accuracy ---> \", ((tp/(tp+fn))+(tn/(tn+fp)))/2)\n",
        "print(\"Jaccard Index --->TP/TP+FN+FP \", tp/(tp+fn+fp))"
      ],
      "metadata": {
        "id": "RG-JsifKTmxp",
        "colab": {
          "base_uri": "https://localhost:8080/"
        },
        "outputId": "aeb007ba-c5f1-47e2-f983-f4ec827b6fd1"
      },
      "execution_count": 26,
      "outputs": [
        {
          "output_type": "stream",
          "name": "stdout",
          "text": [
            "MCC:  0.9676259135453443\n",
            "              precision    recall  f1-score   support\n",
            "\n",
            "           0       0.99      1.00      1.00       192\n",
            "           1       1.00      0.94      0.97        17\n",
            "\n",
            "    accuracy                           1.00       209\n",
            "   macro avg       1.00      0.97      0.98       209\n",
            "weighted avg       1.00      1.00      1.00       209\n",
            "\n",
            "MCC ---> 0.9676259135453443\n",
            "Confusion Matrix. tn, fp, fn, tp --->  192 0 1 16\n",
            "Precision --->TP/TP+Fp  0.9948186528497409\n",
            "Recall - SN - Sensitivity --->TP/TP+FN  1.0\n",
            "Specificity - SP --->  0.9411764705882353\n",
            "Balanced Accuracy --->  0.9705882352941176\n",
            "Jaccard Index --->TP/TP+FN+FP  0.9948186528497409\n"
          ]
        }
      ]
    }
  ],
  "metadata": {
    "kernelspec": {
      "display_name": "Python 3",
      "language": "python",
      "name": "python3"
    },
    "language_info": {
      "codemirror_mode": {
        "name": "ipython",
        "version": 3
      },
      "file_extension": ".py",
      "mimetype": "text/x-python",
      "name": "python",
      "nbconvert_exporter": "python",
      "pygments_lexer": "ipython3",
      "version": "3.8.5"
    },
    "colab": {
      "name": "KerasTuner.ipynb",
      "provenance": [],
      "collapsed_sections": []
    },
    "accelerator": "GPU"
  },
  "nbformat": 4,
  "nbformat_minor": 0
}